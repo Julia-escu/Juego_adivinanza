{
  "cells": [
    {
      "cell_type": "code",
      "execution_count": null,
      "id": "286df349-ca70-4fb1-8649-acddbc03db3b",
      "metadata": {
        "id": "286df349-ca70-4fb1-8649-acddbc03db3b",
        "outputId": "99319228-e09a-40a9-ff80-397676d01bb2"
      },
      "outputs": [
        {
          "name": "stdin",
          "output_type": "stream",
          "text": [
            "Antes de empezar, ¿cuál es tu nombre? JULI\n"
          ]
        },
        {
          "name": "stdout",
          "output_type": "stream",
          "text": [
            "\n",
            "Elige una opción:\n",
            "1. Partida modo solitario\n",
            "2. Partida 2 Jugadores\n",
            "3. Estadísticas\n",
            "4. Salir\n",
            "\n"
          ]
        },
        {
          "name": "stdin",
          "output_type": "stream",
          "text": [
            "Escribe una opción entre 1 y 4:  2\n"
          ]
        },
        {
          "name": "stdout",
          "output_type": "stream",
          "text": [
            "\n",
            "Introduzca el nivel de dificultad\n",
            "1. Fácil (20 intentos)\n",
            "2. Medio (12 intentos)\n",
            "3. Difícil (5 intentos)\n",
            "\n"
          ]
        },
        {
          "name": "stdin",
          "output_type": "stream",
          "text": [
            "Escribe una opción entre 1 y 3:  800\n",
            "Escribe una opción entre 1 y 3:  3423\n",
            "Escribe una opción entre 1 y 3:  1\n"
          ]
        },
        {
          "name": "stdout",
          "output_type": "stream",
          "text": [
            "Primer jugador: introduzca el número comprendido entre 1 y 1000)\n"
          ]
        },
        {
          "name": "stdin",
          "output_type": "stream",
          "text": [
            "Escribe una opción entre 1 y 1000:  900\n"
          ]
        },
        {
          "name": "stdout",
          "output_type": "stream",
          "text": [
            "Segundo jugador: adivina cual es el número elegido por el primer jugador\n"
          ]
        },
        {
          "name": "stdin",
          "output_type": "stream",
          "text": [
            "Escribe una opción entre 1 y 1000:  34\n"
          ]
        },
        {
          "name": "stdout",
          "output_type": "stream",
          "text": [
            "NO ES EL MISMO NÚMERO, prueba suerte una vez más: \n",
            "El número es mayor\n"
          ]
        },
        {
          "name": "stdin",
          "output_type": "stream",
          "text": [
            " 900\n"
          ]
        },
        {
          "name": "stdout",
          "output_type": "stream",
          "text": [
            "Has acertado :)\n",
            "\n",
            "Elige una opción:\n",
            "1. Partida modo solitario\n",
            "2. Partida 2 Jugadores\n",
            "3. Estadísticas\n",
            "4. Salir\n",
            "\n"
          ]
        },
        {
          "name": "stdin",
          "output_type": "stream",
          "text": [
            "Escribe una opción entre 1 y 4:  3\n"
          ]
        },
        {
          "name": "stdout",
          "output_type": "stream",
          "text": [
            "Estas son las estadísticas históricas globales\n",
            "Nombre Dificultad Ganador Numero de intentos startdate enddate duracion \n",
            "Juliaaaaasdassa 1 Ganador 15 2025-01-14 21:34:32.578000 2025-01-14 21:35:23.516000 0:00:50.938000 \n",
            "Juliaaaaasdassa 3 Ganador 2 2025-01-14 21:35:55.300000 2025-01-14 21:36:06.915000 0:00:11.615000 \n",
            "1 1 Ganador 9 2025-01-14 21:51:18.825000 2025-01-14 21:51:55.497000 0:00:36.673000 \n",
            "Juliaaasdasa 3 Ganador 2 2025-01-14 21:56:34.400000 2025-01-14 21:56:41.418000 0:00:07.018000 \n",
            "Julia 3 Ganador 3 2025-01-14 21:59:09.616000 2025-01-14 21:59:18.943000 0:00:09.328000 \n",
            "Julia 1 Ganador 1 2025-01-15 19:18:16.140000 2025-01-15 19:18:18.532000 0:00:02.392000 \n",
            "Julia 1 Ganador 9 2025-01-15 19:21:05.634000 2025-01-15 19:21:38.264000 0:00:32.631000 \n",
            "Julia 3 Perdedor 5 2025-01-15 19:22:11.664000 2025-01-15 19:22:15.018000 0:00:03.354000 \n",
            "Julia 0 Perdedor 0 2025-01-15 19:25:20.594000 2025-01-15 19:25:38.717000 0:00:18.122000 \n",
            "Julia 0 Ganador 2 2025-01-15 19:25:49.176000 2025-01-15 19:25:49.176000 0:00:00 \n",
            "Juliaasdasa 3 Perdedor 5 2025-01-15 20:15:53.923000 2025-01-15 20:16:08.832000 0:00:14.909000 \n",
            "Juliaasdasa 3 Perdedor 5 2025-01-15 20:16:36.001000 2025-01-15 20:16:36.767000 0:00:00.766000 \n",
            "OLEEE 2 Ganador 1 2025-01-15 20:17:00.533000 2025-01-15 20:17:03.306000 0:00:02.774000 \n",
            "Juliasdas 1 Ganador 0 2025-01-15 20:30:53.377000 2025-01-15 20:30:53.377000 0:00:00 \n",
            "Julia 3 Perdedor 5 2025-01-15 20:40:04.715000 2025-01-15 20:40:06.109000 0:00:01.394000 \n",
            "Julia 3 Perdedor 5 2025-01-15 20:41:00.651000 2025-01-15 20:41:07.123000 0:00:06.472000 \n",
            "Juliaasdad 1 Ganador 8 2025-01-15 21:25:15.004000 2025-01-15 21:25:45.225000 0:00:30.221000 \n",
            "JULI 1 Ganador 1 2025-01-15 21:27:02.689000 2025-01-15 21:27:05.695000 0:00:03.006000 \n",
            "En este gráfico se muestra en un histograma la cantidad de ganadores y de perdedores que tiene el juego en global\n"
          ]
        },
        {
          "data": {
            "image/png": "[encoded data removed]",
            "text/plain": [
              "<Figure size 640x480 with 1 Axes>"
            ]
          },
          "metadata": {},
          "output_type": "display_data"
        },
        {
          "name": "stdout",
          "output_type": "stream",
          "text": [
            "\n",
            "Elige una opción:\n",
            "1. Partida modo solitario\n",
            "2. Partida 2 Jugadores\n",
            "3. Estadísticas\n",
            "4. Salir\n",
            "\n"
          ]
        }
      ],
      "source": [
        "import openpyxl as excel\n",
        "import matplotlib.pyplot as plt\n",
        "import random\n",
        "import datetime\n",
        "\n",
        "def Menu():\n",
        "    print('\\nElige una opción:\\n1. Partida modo solitario\\n2. Partida 2 Jugadores\\n3. Estadísticas\\n4. Salir\\n')\n",
        "\n",
        "def Valida(minimo, maximo):\n",
        "    opcion = 0\n",
        "    while opcion < minimo or opcion > maximo:\n",
        "        try:\n",
        "            opcion = int(input(f'Escribe una opción entre {minimo} y {maximo}: '))\n",
        "        except ValueError:\n",
        "            print('Por favor, ingresa un número válido.')\n",
        "    return opcion\n",
        "\n",
        "\n",
        "def mostrar_dificultades():\n",
        "    print('\\nIntroduzca el nivel de dificultad\\n1. Fácil (20 intentos)\\n2. Medio (12 intentos)\\n3. Difícil (5 intentos)\\n')\n",
        "\n",
        "\n",
        "def obtener_intentos(N_dificultad):\n",
        "    if N_dificultad == 1:\n",
        "        return 20\n",
        "    if N_dificultad == 2:\n",
        "        return 12\n",
        "    if N_dificultad == 3:\n",
        "        return 5\n",
        "    else:\n",
        "        return 0\n",
        "\n",
        "def aleatorio():\n",
        "        return random.randint(1, 1000)\n",
        "\n",
        "def juego1():\n",
        "    mostrar_dificultades()\n",
        "    N_dificultad=Valida(1, 3)\n",
        "    num_secreto=aleatorio()\n",
        "    intentos_restantes = obtener_intentos(N_dificultad)\n",
        "    num = Valida(1,1000)\n",
        "    startdate=datetime.datetime.now()\n",
        "    while num != num_secreto and intentos_restantes!=0:\n",
        "        if num < num_secreto:\n",
        "            print('El número es mayor')\n",
        "        if num > num_secreto:\n",
        "            print('El número es menor')\n",
        "        intentos_restantes=intentos_restantes-1\n",
        "        num = Valida(1,1000)\n",
        "    if intentos_restantes==0:\n",
        "        print('Lo siento pero has perdido la partida')\n",
        "        ganador='Perdedor'\n",
        "    else:\n",
        "        print('Lo has adivinado!')\n",
        "        ganador='Ganador'\n",
        "    enddate=datetime.datetime.now()\n",
        "    return num_secreto, intentos_restantes, num, ganador, startdate, enddate, N_dificultad\n",
        "\n",
        "\n",
        "\n",
        "def juego2():\n",
        "    mostrar_dificultades()\n",
        "    N_dificultad=Valida(1, 3)\n",
        "    intentos_restantes = obtener_intentos(N_dificultad)\n",
        "    print('Primer jugador: introduzca el número comprendido entre 1 y 1000)')\n",
        "    numJ1 = Valida(1,1000)\n",
        "    print('Segundo jugador: adivina cual es el número elegido por el primer jugador')\n",
        "    numJ2 = Valida(1,1000)\n",
        "    startdate=datetime.datetime.now()\n",
        "    while not numJ1 == numJ2 and intentos_restantes!=0:\n",
        "        print('NO ES EL MISMO NÚMERO, prueba suerte una vez más: ')\n",
        "        if numJ1 < numJ2:\n",
        "            print('El número es menor')\n",
        "        else:\n",
        "            print('El número es mayor')\n",
        "        numJ2 = int(input())\n",
        "        intentos_restantes = intentos_restantes - 1\n",
        "    if intentos_restantes==0:\n",
        "        print('Perdiste')\n",
        "        ganador='Perdedor'\n",
        "    if numJ1 == numJ2:\n",
        "        print('Has acertado :)')\n",
        "        ganador='Ganador'\n",
        "    enddate=datetime.datetime.now()\n",
        "    return intentos_restantes, numJ1, numJ2, ganador, startdate, enddate, N_dificultad\n",
        "\n",
        "def mostrar_estadisticas(opcion):\n",
        "    excel_document=excel.load_workbook(r'C:\\Users\\Julia Escudero\\Documents\\ucm\\4_Introduccion Python\\Juego_Excel\\Estadisticas.xlsx')\n",
        "    HojaJuego1=excel_document['Estadisticas_juego1']\n",
        "    HojaJuego2=excel_document['Estadisticas_juego2']\n",
        "    HojaGlobal=excel_document['Estadisticas_globales']\n",
        "    if opcion==1:\n",
        "        print('Estas son las estadísticas históricas del primer juego')\n",
        "        for row in HojaJuego1.iter_rows(values_only=True):\n",
        "            for cell in row:\n",
        "                print(f\"{cell} \", end=\"\")\n",
        "            print()\n",
        "    if opcion==2:\n",
        "        print('Estas son las estadísticas históricas del segundo juego')\n",
        "        for row in HojaJuego2.iter_rows(values_only=True):\n",
        "            for cell in row:\n",
        "                print(f\"{cell} \", end=\"\")\n",
        "            print()\n",
        "    if opcion==1 or opcion==2:\n",
        "        print('Estas son las estadísticas históricas globales')\n",
        "        for row in HojaGlobal.iter_rows(values_only=True):\n",
        "            for cell in row:\n",
        "                print(f\"{cell} \", end=\"\")\n",
        "            print()\n",
        "    if opcion==3:\n",
        "        print('Estas son las estadísticas históricas globales')\n",
        "        for row in HojaGlobal.iter_rows(values_only=True):\n",
        "            for cell in row:\n",
        "                print(f\"{cell} \", end=\"\")\n",
        "            print()\n",
        "    excel_document.save(r'C:\\Users\\Julia Escudero\\Documents\\ucm\\4_Introduccion Python\\Juego_Excel\\Estadisticas.xlsx')\n",
        "\n",
        "\n",
        "def estadisticas(nombre, opcion, num_secreto, num, ganador, N_dificultad, intentos_restantes, startdate, enddate, numJ1=None, numJ2=None):\n",
        "    excel_document=excel.load_workbook(r'C:\\Users\\Julia Escudero\\Documents\\ucm\\4_Introduccion Python\\Juego_Excel\\Estadisticas.xlsx')\n",
        "    HojaJuego1=excel_document['Estadisticas_juego1']\n",
        "    HojaJuego2=excel_document['Estadisticas_juego2']\n",
        "    HojaGlobal=excel_document['Estadisticas_globales']\n",
        "    if opcion==1:\n",
        "        HojaJuego1.append([\n",
        "            nombre,\n",
        "            N_dificultad,\n",
        "            ganador,\n",
        "            num_secreto - num,\n",
        "            num,\n",
        "            num_secreto,\n",
        "            obtener_intentos(N_dificultad) - intentos_restantes,\n",
        "            startdate,\n",
        "            enddate,\n",
        "            enddate-startdate\n",
        "        ])\n",
        "    if opcion==2:\n",
        "        HojaJuego2.append([\n",
        "            nombre,\n",
        "            N_dificultad,\n",
        "            ganador,\n",
        "            numJ1 - numJ2,\n",
        "            numJ1,\n",
        "            numJ2,\n",
        "            obtener_intentos(N_dificultad) - intentos_restantes,\n",
        "            startdate,\n",
        "            enddate,\n",
        "            enddate-startdate\n",
        "        ])\n",
        "    if opcion==1 or opcion==2:\n",
        "        HojaGlobal.append([\n",
        "            nombre,\n",
        "            N_dificultad,\n",
        "            ganador,\n",
        "            obtener_intentos(N_dificultad) - intentos_restantes,\n",
        "            startdate,\n",
        "            enddate,\n",
        "            enddate-startdate\n",
        "        ])\n",
        "    excel_document.save(r'C:\\Users\\Julia Escudero\\Documents\\ucm\\4_Introduccion Python\\Juego_Excel\\Estadisticas.xlsx')\n",
        "\n",
        "def grafico():\n",
        "    print('En este gráfico se muestra en un histograma la cantidad de ganadores y de perdedores que tiene el juego en global')\n",
        "    intentos = []\n",
        "    resultados = []\n",
        "    excel_document = excel.load_workbook(r'C:\\Users\\Julia Escudero\\Documents\\ucm\\4_Introduccion Python\\Juego_Excel\\Estadisticas.xlsx')\n",
        "    HojaGlobal = excel_document['Estadisticas_globales']\n",
        "    for row in HojaGlobal.iter_rows(min_row=2, values_only=True):\n",
        "        intentos.append(row[6])\n",
        "        resultados.append(row[2])\n",
        "    ganadores = resultados.count('Ganador')\n",
        "    perdedores = resultados.count('Perdedor')\n",
        "    plt.bar(['Ganadores', 'Perdedores'], [ganadores, perdedores], color=['green', 'red'])\n",
        "    plt.title('Resultado del Juego (Ganadores vs Perdedores)')\n",
        "    plt.xlabel('Resultado')\n",
        "    plt.ylabel('Cantidad de Juegos')\n",
        "    plt.show()\n",
        "\n",
        "\n",
        "def juego():\n",
        "    nombre=\"\"\n",
        "    opcion=0\n",
        "    N_dificultad=0\n",
        "    while opcion!=4:\n",
        "        if nombre==\"\":\n",
        "            nombre = input('Antes de empezar, ¿cuál es tu nombre?')\n",
        "        Menu()\n",
        "        opcion=Valida(1,4)\n",
        "        if opcion == 4:\n",
        "            print('Saliendo del programa...')\n",
        "            break\n",
        "        if opcion==3:\n",
        "            mostrar_estadisticas(opcion)\n",
        "            grafico()\n",
        "        if opcion==1 or opcion==2:\n",
        "            if opcion==1:\n",
        "                num_secreto, intentos_restantes, num, ganador, startdate, enddate, N_dificultad = juego1()\n",
        "                estadisticas(nombre, opcion, num_secreto, num, ganador, N_dificultad, intentos_restantes, startdate, enddate)\n",
        "            if opcion==2:\n",
        "                intentos_restantes, numJ1, numJ2, ganador, startdate, enddate, N_dificultad = juego2()\n",
        "                estadisticas(nombre, opcion, None, None, ganador, N_dificultad, intentos_restantes, startdate, enddate, numJ1, numJ2)\n",
        "\n",
        "juego()\n"
      ]
    }
  ],
  "metadata": {
    "kernelspec": {
      "display_name": "Python 3 (ipykernel)",
      "language": "python",
      "name": "python3"
    },
    "language_info": {
      "codemirror_mode": {
        "name": "ipython",
        "version": 3
      },
      "file_extension": ".py",
      "mimetype": "text/x-python",
      "name": "python",
      "nbconvert_exporter": "python",
      "pygments_lexer": "ipython3",
      "version": "3.12.7"
    },
    "colab": {
      "provenance": []
    }
  },
  "nbformat": 4,
  "nbformat_minor": 5
}